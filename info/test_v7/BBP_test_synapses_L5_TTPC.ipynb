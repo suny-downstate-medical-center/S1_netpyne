{
 "cells": [
  {
   "cell_type": "code",
   "execution_count": 1,
   "metadata": {},
   "outputs": [
    {
     "data": {
      "text/html": [
       "<style>.container { width:100% !important; }</style>"
      ],
      "text/plain": [
       "<IPython.core.display.HTML object>"
      ]
     },
     "metadata": {},
     "output_type": "display_data"
    }
   ],
   "source": [
    "from IPython.display import display, HTML\n",
    "display(HTML(\"<style>.container { width:100% !important; }</style>\"))"
   ]
  },
  {
   "cell_type": "markdown",
   "metadata": {},
   "source": [
    "# Synapses properties of a S1 cell"
   ]
  },
  {
   "cell_type": "code",
   "execution_count": 2,
   "metadata": {},
   "outputs": [],
   "source": [
    "%matplotlib inline\n",
    "import matplotlib.pyplot as plt\n",
    "import numpy as np\n",
    "import os\n",
    "import sys"
   ]
  },
  {
   "cell_type": "code",
   "execution_count": 3,
   "metadata": {},
   "outputs": [],
   "source": [
    "rootFolder = '/home/fernando/S1_netpyne/sim/'\n",
    "os.chdir(rootFolder)\n",
    "\n",
    "folder = os.listdir('cell_data/')"
   ]
  },
  {
   "cell_type": "code",
   "execution_count": 4,
   "metadata": {},
   "outputs": [],
   "source": [
    "# !nrnivmodl mechanisms"
   ]
  },
  {
   "cell_type": "code",
   "execution_count": 5,
   "metadata": {},
   "outputs": [
    {
     "name": "stdout",
     "output_type": "stream",
     "text": [
      "CellNumber = 760\n",
      "CellName = L5_TTPC1_cADpyr232_1\n"
     ]
    }
   ],
   "source": [
    "folder = sorted(folder)\n",
    "cellnumber = 760\n",
    "cellName = folder[cellnumber]\n",
    "\n",
    "print (\"CellNumber = %d\" % cellnumber)\n",
    "print (\"CellName = %s\" % cellName)"
   ]
  },
  {
   "cell_type": "code",
   "execution_count": 6,
   "metadata": {},
   "outputs": [],
   "source": [
    "def loadTemplateName(cellnumber): \n",
    "    outFolder = rootFolder+'cell_data/'+folder[cellnumber]\n",
    "    f = open(outFolder+'/template.hoc', 'r')\n",
    "    for line in f.readlines():\n",
    "        if 'begintemplate' in line:\n",
    "            templatename = str(line)     \n",
    "    templatename=templatename[:-1]        \n",
    "    templatename=templatename[14:]\n",
    "    return templatename\n",
    "\n",
    "cellName = folder[cellnumber]\n",
    "cellTemplateName = loadTemplateName(cellnumber)"
   ]
  },
  {
   "cell_type": "code",
   "execution_count": 7,
   "metadata": {
    "scrolled": true
   },
   "outputs": [
    {
     "name": "stdout",
     "output_type": "stream",
     "text": [
      "Loading constants\n",
      "Setting temperature to 34.000000 C\n",
      "Setting simulation time step to 0.025000 ms\n",
      "\t1 \n",
      "\t1 \n",
      "\t1 \n",
      "Loading cell cADpyr232_L5_TTPC1_0fb1ca4724\n",
      "cADpyr232_L5_TTPC1_0fb1ca4724[0]\n"
     ]
    }
   ],
   "source": [
    "os.chdir(rootFolder)\n",
    "\n",
    "from cellwrapper2 import loadCell\n",
    "cell=loadCell(cellName, cellTemplateName)\n",
    "\n",
    "soma = cell.soma[0]"
   ]
  },
  {
   "cell_type": "markdown",
   "metadata": {},
   "source": [
    "## Activating synapses"
   ]
  },
  {
   "cell_type": "code",
   "execution_count": 8,
   "metadata": {},
   "outputs": [],
   "source": [
    "NETPYNE = [[1, 0, 0.5],\n",
    "           [2, 1, 0.4051878210727514],\n",
    "           [2, 2, 0.4312580988132289],\n",
    "           [3, 0, 0.6183187654292187],\n",
    "           [3, 1, 0.811724705226512],\n",
    "           [3, 2, 0.870099665479436],\n",
    "           [3, 2, 0.15167262364252657]]"
   ]
  },
  {
   "cell_type": "code",
   "execution_count": 9,
   "metadata": {},
   "outputs": [],
   "source": [
    "expsyn = []\n",
    "netstim = []\n",
    "netcon = []\n",
    "\n",
    "n = 0\n",
    "for a,b,c in NETPYNE:\n",
    "    \n",
    "    expsyn.append(neuron.h.Exp2Syn(c, sec=cell.dend[b]))\n",
    "    netstim.append(neuron.h.NetStim())\n",
    "    netcon.append(neuron.h.NetCon(netstim[n],expsyn[n]))\n",
    "    netstim[n].noise = 0\n",
    "    netcon[n].delay = 0.1\n",
    "    \n",
    "    if a < 3:\n",
    "        expsyn[n].tau1 = 0.2\n",
    "        expsyn[n].tau2 = 1.74\n",
    "        expsyn[n].e = 0        \n",
    "        netcon[n].weight[0] = 0.0015\n",
    "        \n",
    "        if a == 1:\n",
    "            netstim[n].start = 1500\n",
    "            netstim[n].interval = 600\n",
    "        else:\n",
    "            netstim[n].start = 1700\n",
    "            netstim[n].interval = 425\n",
    "        \n",
    "    else:\n",
    "        expsyn[n].tau1 = 0.2\n",
    "        expsyn[n].tau2 = 8.3\n",
    "        expsyn[n].e = -80        \n",
    "        netcon[n].weight[0] = 0.00075\n",
    "        netstim[n].start = 1900\n",
    "        netstim[n].interval = 250\n",
    "    \n",
    "    n+=1"
   ]
  },
  {
   "cell_type": "code",
   "execution_count": 10,
   "metadata": {},
   "outputs": [
    {
     "data": {
      "text/plain": [
       "0.0"
      ]
     },
     "execution_count": 10,
     "metadata": {},
     "output_type": "execute_result"
    }
   ],
   "source": [
    "neuron.h.dt = 0.025\n",
    "neuron.h.cvode_active(0)\n",
    "neuron.h.tstop = 2400 # ms\n",
    "neuron.h.celsius = 34\n",
    "neuron.h.v_init = -70.0\n",
    "\n",
    "time = neuron.h.Vector()\n",
    "voltage = neuron.h.Vector()\n",
    "ik = neuron.h.Vector()\n",
    "\n",
    "\n",
    "time.record(neuron.h._ref_t)\n",
    "voltage.record(soma(.5)._ref_v);\n",
    "ik.record(soma(.5)._ref_ik);\n",
    "\n",
    "neuron.h.run()"
   ]
  },
  {
   "cell_type": "code",
   "execution_count": 11,
   "metadata": {},
   "outputs": [
    {
     "data": {
      "image/png": "[encoded data removed]",
      "text/plain": [
       "<Figure size 576x288 with 1 Axes>"
      ]
     },
     "metadata": {
      "needs_background": "light"
     },
     "output_type": "display_data"
    }
   ],
   "source": [
    "figSize = (8,4)\n",
    "fig = plt.figure(figsize=figSize)  # Open a new figure\n",
    "clr = [\"blue\", \"blue\",\"green\",\"gray\", \"red\"]\n",
    "number=0\n",
    "for i in range(1):\n",
    "    for number2 in range(i,5,5):\n",
    "        plt.plot(time,voltage-voltage[60000], label= 'V_soma', linewidth=2.5, color=clr[i])\n",
    "        number+=1\n",
    "\n",
    "plt.legend(loc='upper right', bbox_to_anchor=(1.01, 1.04))\n",
    "plt.xlim(1450,2400)\n",
    "plt.ylim(-0.25,1.0)\n",
    "plt.xlabel('Time (ms)', fontsize=16)\n",
    "plt.ylabel('PSP (mV)', fontsize=16)\n",
    "plt.xticks(range(1500,2500,200), range(0,1000,200), fontsize=12);\n",
    "plt.yticks([0,1], fontsize=12);\n",
    "plt.ion()\n",
    "plt.tight_layout()\n"
   ]
  },
  {
   "cell_type": "code",
   "execution_count": 17,
   "metadata": {},
   "outputs": [],
   "source": [
    "import json\n",
    "\n",
    "with open('/home/fernando/voltage.json', 'w') as outfile:\n",
    "    json.dump(list(voltage), outfile)"
   ]
  }
 ],
 "metadata": {
  "kernelspec": {
   "display_name": "Python 3 (ipykernel)",
   "language": "python",
   "name": "python3"
  },
  "language_info": {
   "codemirror_mode": {
    "name": "ipython",
    "version": 3
   },
   "file_extension": ".py",
   "mimetype": "text/x-python",
   "name": "python",
   "nbconvert_exporter": "python",
   "pygments_lexer": "ipython3",
   "version": "3.8.12"
  },
  "widgets": {
   "state": {
    "5d7515ec2d3c485faf342256962a9e1b": {
     "views": [
      {
       "cell_index": 55
      }
     ]
    },
    "67b10b1ff7bd4d00996c6f8c66ea2f54": {
     "views": [
      {
       "cell_index": 87
      }
     ]
    },
    "ac8a9e4ca55645a3828b4266fadf29a9": {
     "views": [
      {
       "cell_index": 41
      }
     ]
    }
   },
   "version": "1.2.0"
  }
 },
 "nbformat": 4,
 "nbformat_minor": 2
}
