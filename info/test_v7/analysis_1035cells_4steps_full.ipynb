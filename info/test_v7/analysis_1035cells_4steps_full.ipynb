{
 "cells": [
  {
   "cell_type": "code",
   "execution_count": 1,
   "metadata": {},
   "outputs": [
    {
     "data": {
      "text/html": [
       "<style>.container { width:100% !important; }</style>"
      ],
      "text/plain": [
       "<IPython.core.display.HTML object>"
      ]
     },
     "metadata": {},
     "output_type": "display_data"
    }
   ],
   "source": [
    "from IPython.display import display, HTML\n",
    "display(HTML(\"<style>.container { width:100% !important; }</style>\"))"
   ]
  },
  {
   "cell_type": "markdown",
   "metadata": {},
   "source": [
    "# All S1 cells information"
   ]
  },
  {
   "cell_type": "code",
   "execution_count": 2,
   "metadata": {},
   "outputs": [],
   "source": [
    "import h5py\n",
    "import json\n",
    "import numpy as np\n",
    "import os\n",
    "import sys\n",
    "from matplotlib import pyplot as plt\n",
    "\n",
    "# rootFolder = '/home/fernando/S1_netpyne'\n",
    "#------------------------------------------------------------------------------  "
   ]
  },
  {
   "cell_type": "code",
   "execution_count": 3,
   "metadata": {},
   "outputs": [
    {
     "data": {
      "text/plain": [
       "'/home/fernando/Downloads/S1_netpyne/info/test_and_figu'"
      ]
     },
     "execution_count": 3,
     "metadata": {},
     "output_type": "execute_result"
    }
   ],
   "source": [
    "rootFolder = os.getcwd()\n",
    "rootFolder = rootFolder[:-5]\n",
    "rootFolder"
   ]
  },
  {
   "cell_type": "code",
   "execution_count": 4,
   "metadata": {},
   "outputs": [],
   "source": [
    "rootFolder = '/home/fernando/Downloads/S1_netpyne/'"
   ]
  },
  {
   "cell_type": "markdown",
   "metadata": {},
   "source": [
    "## Cell Number distribution"
   ]
  },
  {
   "cell_type": "code",
   "execution_count": 5,
   "metadata": {},
   "outputs": [
    {
     "name": "stdout",
     "output_type": "stream",
     "text": [
      "Number of cells = 31346\n"
     ]
    }
   ],
   "source": [
    "#------------------------------------------------------------------------------\n",
    "# Cells\n",
    "#------------------------------------------------------------------------------\n",
    "# Load 55 Morphological Names-> L1:6 L23:10 L4:12 L5:13 L6:14\n",
    "# Load 207 Morpho-electrical Names-> L1:14 L23:43 L4:46 L5:52 L6:52\n",
    "\n",
    "with open(rootFolder + '/info/anatomy/S1-cells-distributions-Rat.txt') as metype_file:\n",
    "    metype_content = metype_file.read()       \n",
    "\n",
    "MtypeNumber = {}\n",
    "MEtypeNumber = {}\n",
    "MtypePop = []\n",
    "MEtypePop = []\n",
    "popLabel = {}\n",
    "N = 0\n",
    "for line in metype_content.split('\\n')[:-1]:\n",
    "    metype, mtype, etype, n, m = line.split()\n",
    "    MEtypeNumber[metype] = int(n)\n",
    "    popLabel[metype] = mtype\n",
    "    MtypeNumber[mtype] = int(m)\n",
    "\n",
    "    if mtype not in MtypePop:\n",
    "        MtypePop.append(mtype)\n",
    "    MEtypePop.append(metype)\n",
    "    \n",
    "    N = N + int(n)\n",
    "    \n",
    "print ('Number of cells = %d' % N)"
   ]
  },
  {
   "cell_type": "code",
   "execution_count": 6,
   "metadata": {},
   "outputs": [],
   "source": [
    "Epops = ['L23_PC', 'L4_PC', 'L4_SS', 'L4_SP', \n",
    "             'L5_TTPC1', 'L5_TTPC2', 'L5_STPC', 'L5_UTPC',\n",
    "             'L6_TPC_L1', 'L6_TPC_L4', 'L6_BPC', 'L6_IPC', 'L6_UTPC']\n",
    "Ipops = []\n",
    "for popName in MtypePop:\n",
    "    if popName not in Epops:\n",
    "        Ipops.append(popName)"
   ]
  },
  {
   "cell_type": "code",
   "execution_count": 7,
   "metadata": {
    "scrolled": false
   },
   "outputs": [
    {
     "name": "stdout",
     "output_type": "stream",
     "text": [
      "L4_DBC_bIR215 1 32% 13 40\n",
      "L4_LBC_cSTUT189 1 25% 31 122\n",
      "L5_DBC_bIR215 1 35% 34 96\n",
      "L6_DBC_bIR215 1 32% 10 31\n",
      "L6_LBC_bIR215 1 27% 127 463\n",
      "L6_LBC_bSTUT213 1 27% 124 463\n",
      "L6_MC_bIR215 1 43% 145 336\n"
     ]
    }
   ],
   "source": [
    "## https://bbp.epfl.ch/nmc-portal/assets/documents/static/Download/hoc_combos_syn.1_0_10.allzips.tar\n",
    "## extracted 1035 folders in home/fernando/Downloads/hoc_combos_syn.1_0_10.allzips/  #~ not inclued in the github\n",
    "\n",
    "StochKvcells = []\n",
    "nonStochKvcells = []\n",
    "\n",
    "for cellName in MEtypePop:\n",
    "    number = 1 # same for all metype cells\n",
    "    os.chdir('/home/fernando/Downloads/hoc_combos_syn.1_0_10.allzips/'+cellName+'_'+str(number)+'/')\n",
    "    \n",
    "    foldermech = os.listdir('mechanisms/')\n",
    "    if 'StochKv.mod' in foldermech:\n",
    "        StochKvcells.append(cellName) \n",
    "        if 100*MEtypeNumber[cellName]/MtypeNumber[popLabel[cellName]] > 25:\n",
    "            print('%s %s %.0f%s %d %d' % (cellName, '1', 100*MEtypeNumber[cellName]/MtypeNumber[popLabel[cellName]],'%', MEtypeNumber[cellName], MtypeNumber[popLabel[cellName]]))\n",
    "#         else:\n",
    "#             print('%s %s %.0f%s %d %d' % (cellName, '2', 100*MEtypeNumber[cellName]/MtypeNumber[popLabel[cellName]],'%', MEtypeNumber[cellName], MtypeNumber[popLabel[cellName]]))\n",
    "    else:\n",
    "        nonStochKvcells.append(cellName)\n",
    "#         print('%s %s %.0f%s %d %d' % (cellName, '0', 100*MEtypeNumber[cellName]/MtypeNumber[popLabel[cellName]],'%', MEtypeNumber[cellName], MtypeNumber[popLabel[cellName]]))\n"
   ]
  },
  {
   "cell_type": "markdown",
   "metadata": {},
   "source": [
    "## StochKv channels"
   ]
  },
  {
   "cell_type": "code",
   "execution_count": 8,
   "metadata": {
    "scrolled": true
   },
   "outputs": [
    {
     "name": "stdout",
     "output_type": "stream",
     "text": [
      "cells with StochKv channel = 1137 (3.63 percent) \n"
     ]
    }
   ],
   "source": [
    "StochKvcellsNumber = 0\n",
    "for metype in StochKvcells:    \n",
    "    StochKvcellsNumber = StochKvcellsNumber + MEtypeNumber[metype]\n",
    "\n",
    "print('cells with StochKv channel = %d (%.2f percent) ' % (StochKvcellsNumber,100.0*StochKvcellsNumber/N))     "
   ]
  },
  {
   "cell_type": "markdown",
   "metadata": {},
   "source": [
    "## Load efel analysis"
   ]
  },
  {
   "cell_type": "code",
   "execution_count": 9,
   "metadata": {},
   "outputs": [],
   "source": [
    "feature_items = ['mean_frequency', 'ISI_CV', 'time_to_first_spike', 'time_to_second_spike', 'AP_height', 'AP_width', 'AP_amplitude','voltage_base']\n",
    "\n",
    "ampstim =  [0.1 ,0.2, 0.4, 0.8]\n",
    "durationstim = 2000\n",
    "delaystim = 700\n",
    "timesimulation = 3000\n",
    "\n",
    "feature_efel = {}\n",
    "for cell in MEtypePop:\n",
    "    for number in range(1,6):\n",
    "        cellName = cell+'_'+str(number)\n",
    "        with open(rootFolder + '/info/scripts_comparations/Figures-comparation/0.1_0.2_0.4_0.8_nA/info_efel_4steps_BBP_NetPyNE_' + cellName + '.json', 'r') as f:\n",
    "            feature_efel[cellName] = json.load(f) "
   ]
  },
  {
   "cell_type": "code",
   "execution_count": 10,
   "metadata": {},
   "outputs": [],
   "source": [
    "feature_BBP = []\n",
    "feature_NetPyNE = []\n",
    "feature_BBP_Stoch = []\n",
    "feature_NetPyNE_Stoch = []\n",
    "feature_BBP_all = []\n",
    "feature_NetPyNE_all = []\n",
    "\n",
    "for cell in MEtypePop:\n",
    "    for number in range(1,6):\n",
    "        cellName = cell+'_'+str(number)\n",
    "        feature_name = 'mean_frequency'\n",
    "        step_number = 0\n",
    "        if feature_efel[cellName]['NetPyNE'][cellName][feature_name][str(ampstim[step_number])]==0:\n",
    "            step_number += 1\n",
    "            if feature_efel[cellName]['NetPyNE'][cellName][feature_name][str(ampstim[step_number])]==0:\n",
    "                step_number += 1\n",
    "                if feature_efel[cellName]['NetPyNE'][cellName][feature_name][str(ampstim[step_number])]==0:\n",
    "                    step_number += 1\n",
    "                    if feature_efel[cellName]['NetPyNE'][cellName][feature_name][str(ampstim[step_number])]==0:\n",
    "                        step_number += 1\n",
    "        \n",
    "        if step_number < 4:\n",
    "#             print(cellName, feature_name, ampstim[step_number],'BBP', feature_efel[cellName]['BBP'][cellName][feature_name][str(ampstim[step_number])])\n",
    "#             print(cellName, feature_name, ampstim[step_number], 'NetPyNE', feature_efel[cellName]['NetPyNE'][cellName][feature_name][str(ampstim[step_number])])\n",
    "            if cell in StochKvcells:\n",
    "                feature_BBP_Stoch.append(feature_efel[cellName]['BBP'][cellName][feature_name][str(ampstim[step_number])])\n",
    "                feature_NetPyNE_Stoch.append(feature_efel[cellName]['NetPyNE'][cellName][feature_name][str(ampstim[step_number])])\n",
    "            else:\n",
    "                feature_BBP.append(feature_efel[cellName]['BBP'][cellName][feature_name][str(ampstim[step_number])])\n",
    "                feature_NetPyNE.append(feature_efel[cellName]['NetPyNE'][cellName][feature_name][str(ampstim[step_number])])\n",
    "\n",
    "            feature_BBP_all.append(feature_efel[cellName]['BBP'][cellName][feature_name][str(ampstim[step_number])])\n",
    "            feature_NetPyNE_all.append(feature_efel[cellName]['NetPyNE'][cellName][feature_name][str(ampstim[step_number])])\n"
   ]
  },
  {
   "cell_type": "code",
   "execution_count": 11,
   "metadata": {},
   "outputs": [
    {
     "name": "stdout",
     "output_type": "stream",
     "text": [
      "765 765\n",
      "270 270\n"
     ]
    }
   ],
   "source": [
    "print(np.size(feature_BBP),np.size(feature_NetPyNE))\n",
    "print(np.size(feature_BBP_Stoch),np.size(feature_NetPyNE_Stoch))"
   ]
  },
  {
   "cell_type": "code",
   "execution_count": 23,
   "metadata": {},
   "outputs": [
    {
     "data": {
      "image/png": "[encoded data removed]",
      "text/plain": [
       "<Figure size 288x288 with 1 Axes>"
      ]
     },
     "metadata": {
      "needs_background": "light"
     },
     "output_type": "display_data"
    }
   ],
   "source": [
    "# plot\n",
    "fontsiz=14\n",
    "figSize = (4,4)\n",
    "fig = plt.figure(figsize=figSize)  # Open a new figure\n",
    "fig.suptitle('F (Hz)', fontsize=15)\n",
    "plt.subplot(1, 1, 1)\n",
    "plt.ylabel('BBP', fontsize=fontsiz)\n",
    "plt.plot(feature_NetPyNE, feature_BBP, 'go', label='Cells without StochKv') \n",
    "plt.plot(feature_NetPyNE_Stoch, feature_BBP_Stoch, 'kx', label='Cells with StochKv') \n",
    "plt.xlabel('NetPyNE', fontsize=fontsiz)\n",
    "plt.xlim(-10, 100)\n",
    "plt.ylim(-10, 100)\n",
    "plt.yticks(fontsize=12)\n",
    "plt.xticks(fontsize=12)\n",
    "plt.grid(False)\n",
    "# plt.legend(loc='upper right', bbox_to_anchor=(0.635, 1.02), fontsize=14)\n",
    "# plt.ion()\n",
    "plt.savefig(rootFolder + '/info/scripts_comparations/Figures-comparation/0.1_0.2_0.4_0.8_nA/comparation_%s.png' % feature_name, facecolor = 'white' , dpi=300)\n",
    "                    "
   ]
  },
  {
   "cell_type": "markdown",
   "metadata": {},
   "source": [
    "## New"
   ]
  },
  {
   "cell_type": "code",
   "execution_count": 13,
   "metadata": {},
   "outputs": [
    {
     "name": "stdout",
     "output_type": "stream",
     "text": [
      "1035 1035\n"
     ]
    }
   ],
   "source": [
    "print(np.size(feature_BBP_all),np.size(feature_NetPyNE_all))"
   ]
  },
  {
   "cell_type": "code",
   "execution_count": 14,
   "metadata": {
    "scrolled": false
   },
   "outputs": [],
   "source": [
    "popRates_BBP = {}\n",
    "popRates_NetPyNE = {}\n",
    "for pop in MtypePop:\n",
    "    popRates_BBP[pop] = []\n",
    "    popRates_NetPyNE[pop] = []\n",
    "\n",
    "for cell in MEtypePop:\n",
    "    for number in range(1,6):\n",
    "        cellName = cell+'_'+str(number)\n",
    "        feature_name = 'mean_frequency'\n",
    "        step_number = 0\n",
    "        if feature_efel[cellName]['NetPyNE'][cellName][feature_name][str(ampstim[step_number])]==0:\n",
    "            step_number += 1\n",
    "            if feature_efel[cellName]['NetPyNE'][cellName][feature_name][str(ampstim[step_number])]==0:\n",
    "                step_number += 1\n",
    "                if feature_efel[cellName]['NetPyNE'][cellName][feature_name][str(ampstim[step_number])]==0:\n",
    "                    step_number += 1\n",
    "                    if feature_efel[cellName]['NetPyNE'][cellName][feature_name][str(ampstim[step_number])]==0:\n",
    "                        step_number += 1\n",
    "                        \n",
    "#         print(popLabel[cell])\n",
    "        pop = popLabel[cell]\n",
    "        popRates_BBP[pop].append(feature_efel[cellName]['BBP'][cellName][feature_name][str(ampstim[step_number])])\n",
    "        popRates_NetPyNE[pop].append(feature_efel[cellName]['NetPyNE'][cellName][feature_name][str(ampstim[step_number])])\n",
    "\n",
    "#         print('%.2f %.2f' % (feature_efel[cellName]['BBP'][cellName][feature_name][str(ampstim[step_number])],feature_efel[cellName]['NetPyNE'][cellName][feature_name][str(ampstim[step_number])]))\n",
    "\n",
    "# for cell in MEtypePop:\n",
    "#     print('%.2f %.2f  %.2f %.2f' % (np.mean(popRates_BBP[cell]),np.std(popRates_BBP[cell]),np.mean(popRates_NetPyNE[cell]),np.std(popRates_NetPyNE[cell])))"
   ]
  },
  {
   "cell_type": "code",
   "execution_count": 15,
   "metadata": {},
   "outputs": [],
   "source": [
    "x = np.arange(1, 56)\n",
    "y = []\n",
    "e = []\n",
    "y2 = []\n",
    "e2 = []\n",
    "for pop in MtypePop:    \n",
    "    y.append(np.mean(popRates_BBP[pop]))\n",
    "    e.append(np.std(popRates_BBP[pop]))\n",
    "    y2.append(np.mean(popRates_NetPyNE[pop]))\n",
    "    e2.append(np.std(popRates_NetPyNE[pop]))"
   ]
  },
  {
   "cell_type": "code",
   "execution_count": 16,
   "metadata": {},
   "outputs": [
    {
     "data": {
      "image/png": "[encoded data removed]",
      "text/plain": [
       "<Figure size 144x864 with 1 Axes>"
      ]
     },
     "metadata": {
      "needs_background": "light"
     },
     "output_type": "display_data"
    }
   ],
   "source": [
    "plt.figure(figsize=(2,12))\n",
    "plt.errorbar(y, x, xerr=e, linestyle='None', marker='o')\n",
    "# plt.ylim(12.5,-0.5)\n",
    "plt.ylim(0,56)\n",
    "plt.yticks(x, MtypePop, fontsize=10);"
   ]
  },
  {
   "cell_type": "code",
   "execution_count": 34,
   "metadata": {},
   "outputs": [
    {
     "data": {
      "image/png": "[encoded data removed]",
      "text/plain": [
       "<Figure size 1512x414 with 1 Axes>"
      ]
     },
     "metadata": {
      "needs_background": "light"
     },
     "output_type": "display_data"
    }
   ],
   "source": [
    "plt.figure(figsize=(21,5.75))\n",
    "plt.errorbar(x-0.125, y, e, linestyle='None', marker='o', color='blue')\n",
    "plt.errorbar(x+0.125, y2, e2, linestyle='None', marker='o', color='red')\n",
    "# plt.ylim(12.5,-0.5)\n",
    "plt.ylabel('F (Hz)', fontsize=18)\n",
    "plt.xlim(0,56)\n",
    "plt.xticks(x, MtypePop, fontsize=13, rotation=60);\n",
    "plt.yticks(fontsize=13);\n",
    "plt.savefig(rootFolder + '/info/scripts_comparations/Figures-comparation/0.1_0.2_0.4_0.8_nA/comparation_%s_populations.png' % feature_name, facecolor = 'white' , dpi=300)\n",
    "     "
   ]
  },
  {
   "cell_type": "code",
   "execution_count": 18,
   "metadata": {},
   "outputs": [
    {
     "ename": "TypeError",
     "evalue": "append() takes exactly one argument (0 given)",
     "output_type": "error",
     "traceback": [
      "\u001b[0;31m---------------------------------------------------------------------------\u001b[0m",
      "\u001b[0;31mTypeError\u001b[0m                                 Traceback (most recent call last)",
      "Input \u001b[0;32mIn [18]\u001b[0m, in \u001b[0;36m<cell line: 9>\u001b[0;34m()\u001b[0m\n\u001b[1;32m     13\u001b[0m         step_number \u001b[38;5;241m=\u001b[39m \u001b[38;5;241m0\u001b[39m\n\u001b[1;32m     15\u001b[0m \u001b[38;5;66;03m#             step_number += 1\u001b[39;00m\n\u001b[0;32m---> 17\u001b[0m         \u001b[43mpopRates\u001b[49m\u001b[38;5;241;43m.\u001b[39;49m\u001b[43mappend\u001b[49m\u001b[43m(\u001b[49m\u001b[43m)\u001b[49m\n\u001b[1;32m     18\u001b[0m         popNames\u001b[38;5;241m.\u001b[39mappend()\n\u001b[1;32m     20\u001b[0m         plt\u001b[38;5;241m.\u001b[39mtext(\u001b[38;5;241m4.85\u001b[39m, number2 \u001b[38;5;241m+\u001b[39m \u001b[38;5;241m0.13\u001b[39m, \u001b[38;5;124m'\u001b[39m\u001b[38;5;124mN=\u001b[39m\u001b[38;5;124m'\u001b[39m \u001b[38;5;241m+\u001b[39m \u001b[38;5;28mstr\u001b[39m(popNumber[popName]), fontsize\u001b[38;5;241m=\u001b[39m\u001b[38;5;241m14\u001b[39m)\n",
      "\u001b[0;31mTypeError\u001b[0m: append() takes exactly one argument (0 given)"
     ]
    },
    {
     "data": {
      "image/png": "[encoded data removed]",
      "text/plain": [
       "<Figure size 864x216 with 1 Axes>"
      ]
     },
     "metadata": {
      "needs_background": "light"
     },
     "output_type": "display_data"
    }
   ],
   "source": [
    "plt.figure(figsize=(12,3))\n",
    "widths = 0.6\n",
    "plt.subplot(1, 1, 1) \n",
    "number = 0\n",
    "\n",
    "popRates = []\n",
    "popNames = []\n",
    "\n",
    "for cell in MEtypePop:\n",
    "    for number in range(1,6):\n",
    "        cellName = cell+'_'+str(number)\n",
    "        popName\n",
    "        step_number = 0\n",
    "        \n",
    "#             step_number += 1\n",
    "\n",
    "        popRates.append()\n",
    "        popNames.append()\n",
    "        \n",
    "        plt.text(4.85, number2 + 0.13, 'N=' + str(popNumber[popName]), fontsize=14)\n",
    "\n",
    "    ind = np.arange(len(popNames))\n",
    "    plt.barh(ind+0.1-0.1*number,popRates, widths, label=paramsName[5:]) \n",
    "    number = number + 1\n",
    "\n",
    "plt.ylim(12.5,-0.5)\n",
    "plt.xlim(0,5.9)\n",
    "plt.xlabel('F (Hz)', fontsize=18)\n",
    "plt.yticks(ind, popNames, fontsize=10)\n",
    "plt.legend(loc='upper right', bbox_to_anchor=(0.8, 1.0))"
   ]
  },
  {
   "cell_type": "code",
   "execution_count": 24,
   "metadata": {},
   "outputs": [],
   "source": [
    "feature_BBP = []\n",
    "feature_NetPyNE = []\n",
    "feature_BBP_Stoch = []\n",
    "feature_NetPyNE_Stoch = []\n",
    "\n",
    "for cell in MEtypePop:\n",
    "    for number in range(1,6):\n",
    "        cellName = cell+'_'+str(number)\n",
    "        feature_name = 'voltage_base'\n",
    "        step_number = 0\n",
    "        if feature_efel[cellName]['NetPyNE'][cellName][feature_name][str(ampstim[step_number])]==0:\n",
    "            step_number += 1\n",
    "            if feature_efel[cellName]['NetPyNE'][cellName][feature_name][str(ampstim[step_number])]==0:\n",
    "                step_number += 1\n",
    "                if feature_efel[cellName]['NetPyNE'][cellName][feature_name][str(ampstim[step_number])]==0:\n",
    "                    step_number += 1\n",
    "                    if feature_efel[cellName]['NetPyNE'][cellName][feature_name][str(ampstim[step_number])]==0:\n",
    "                        step_number += 1\n",
    "        \n",
    "        if step_number < 4:\n",
    "#             print(cellName, feature_name, ampstim[step_number],'BBP', feature_efel[cellName]['BBP'][cellName][feature_name][str(ampstim[step_number])])\n",
    "#             print(cellName, feature_name, ampstim[step_number], 'NetPyNE', feature_efel[cellName]['NetPyNE'][cellName][feature_name][str(ampstim[step_number])])\n",
    "            if cell in StochKvcells:\n",
    "                feature_BBP_Stoch.append(feature_efel[cellName]['BBP'][cellName][feature_name][str(ampstim[step_number])])\n",
    "                feature_NetPyNE_Stoch.append(feature_efel[cellName]['NetPyNE'][cellName][feature_name][str(ampstim[step_number])])\n",
    "            else:\n",
    "                feature_BBP.append(feature_efel[cellName]['BBP'][cellName][feature_name][str(ampstim[step_number])])\n",
    "                feature_NetPyNE.append(feature_efel[cellName]['NetPyNE'][cellName][feature_name][str(ampstim[step_number])])\n"
   ]
  },
  {
   "cell_type": "code",
   "execution_count": 25,
   "metadata": {},
   "outputs": [
    {
     "data": {
      "image/png": "[encoded data removed]",
      "text/plain": [
       "<Figure size 288x288 with 1 Axes>"
      ]
     },
     "metadata": {
      "needs_background": "light"
     },
     "output_type": "display_data"
    }
   ],
   "source": [
    "# plot\n",
    "fontsiz=22\n",
    "figSize = (4,4)\n",
    "fig = plt.figure(figsize=figSize)  # Open a new figure\n",
    "fig.suptitle('Voltage base', fontsize=15, fontweight='bold')\n",
    "# plt.subplot(1, 1, 1)\n",
    "plt.ylabel('BBP', fontsize=fontsiz)\n",
    "plt.plot(feature_NetPyNE, feature_BBP, 'go', label='Cells without StochKv channel') \n",
    "plt.plot(feature_NetPyNE_Stoch, feature_BBP_Stoch, 'kx', label='Cells with StochKv channel') \n",
    "plt.xlabel('NetPyNE', fontsize=fontsiz)\n",
    "# plt.xlim(-80, -65)\n",
    "# plt.ylim(-80, -65)\n",
    "plt.grid(False)\n",
    "# plt.legend(loc='upper right', bbox_to_anchor=(0.315, 0.95))\n",
    "# plt.ion()\n",
    "plt.savefig(rootFolder + '/info/scripts_comparations/Figures-comparation/0.1_0.2_0.4_0.8_nA/comparation_%s.png' % feature_name, facecolor = 'white' , dpi=300)\n",
    "                    "
   ]
  },
  {
   "cell_type": "code",
   "execution_count": 26,
   "metadata": {
    "scrolled": false
   },
   "outputs": [
    {
     "data": {
      "image/png": "[encoded data removed]",
      "text/plain": [
       "<Figure size 288x288 with 1 Axes>"
      ]
     },
     "metadata": {
      "needs_background": "light"
     },
     "output_type": "display_data"
    }
   ],
   "source": [
    "feature_BBP = []\n",
    "feature_NetPyNE = []\n",
    "feature_BBP_Stoch = []\n",
    "feature_NetPyNE_Stoch = []\n",
    "\n",
    "for cell in MEtypePop:\n",
    "    for number in range(1,6):\n",
    "        cellName = cell+'_'+str(number)\n",
    "        feature_name = 'time_to_first_spike'\n",
    "        step_number = 0\n",
    "        if feature_efel[cellName]['NetPyNE'][cellName][feature_name][str(ampstim[step_number])]==0:\n",
    "            step_number += 1\n",
    "            if feature_efel[cellName]['NetPyNE'][cellName][feature_name][str(ampstim[step_number])]==0:\n",
    "                step_number += 1\n",
    "                if feature_efel[cellName]['NetPyNE'][cellName][feature_name][str(ampstim[step_number])]==0:\n",
    "                    step_number += 1\n",
    "                    if feature_efel[cellName]['NetPyNE'][cellName][feature_name][str(ampstim[step_number])]==0:\n",
    "                        step_number += 1\n",
    "        \n",
    "        if step_number < 4:\n",
    "#             print(cellName, feature_name, ampstim[step_number],'BBP', feature_efel[cellName]['BBP'][cellName][feature_name][str(ampstim[step_number])])\n",
    "#             print(cellName, feature_name, ampstim[step_number], 'NetPyNE', feature_efel[cellName]['NetPyNE'][cellName][feature_name][str(ampstim[step_number])])\n",
    "            if cell in StochKvcells:\n",
    "                feature_BBP_Stoch.append(feature_efel[cellName]['BBP'][cellName][feature_name][str(ampstim[step_number])])\n",
    "                feature_NetPyNE_Stoch.append(feature_efel[cellName]['NetPyNE'][cellName][feature_name][str(ampstim[step_number])])\n",
    "            else:\n",
    "                feature_BBP.append(feature_efel[cellName]['BBP'][cellName][feature_name][str(ampstim[step_number])])\n",
    "                feature_NetPyNE.append(feature_efel[cellName]['NetPyNE'][cellName][feature_name][str(ampstim[step_number])])\n",
    "# plot\n",
    "fontsiz=14\n",
    "figSize = (4,4)\n",
    "fig = plt.figure(figsize=figSize)  # Open a new figure\n",
    "fig.suptitle('Time to first spike', fontsize=14)\n",
    "plt.subplot(1, 1, 1)\n",
    "plt.ylabel('BBP', fontsize=fontsiz)\n",
    "plt.plot(feature_NetPyNE, feature_BBP, 'go', label='Cells without StochKv') \n",
    "plt.plot(feature_NetPyNE_Stoch, feature_BBP_Stoch, 'kx', label='Cells with StochKv') \n",
    "plt.xlabel('NetPyNE', fontsize=fontsiz)\n",
    "plt.xlim(-20, 1800)\n",
    "plt.ylim(-20, 1800)\n",
    "plt.yticks([0,500,1000,1500],fontsize=12)\n",
    "plt.xticks([0,500,1000,1500],fontsize=12)\n",
    "plt.grid(False)\n",
    "plt.legend(loc='upper right', bbox_to_anchor=(0.78, 1.02), fontsize=11.5)\n",
    "# plt.ion()\n",
    "plt.savefig(rootFolder + '/info/scripts_comparations/Figures-comparation/0.1_0.2_0.4_0.8_nA/comparation_%s.png' % feature_name, facecolor = 'white' , dpi=300)\n",
    "               "
   ]
  },
  {
   "cell_type": "code",
   "execution_count": null,
   "metadata": {},
   "outputs": [],
   "source": [
    "feature_BBP = []\n",
    "feature_NetPyNE = []\n",
    "feature_BBP_Stoch = []\n",
    "feature_NetPyNE_Stoch = []\n",
    "\n",
    "for cell in MEtypePop:\n",
    "    for number in range(1,6):\n",
    "        cellName = cell+'_'+str(number)\n",
    "        feature_name = 'time_to_second_spike'\n",
    "        step_number = 0\n",
    "        if feature_efel[cellName]['NetPyNE'][cellName][feature_name][str(ampstim[step_number])]==0:\n",
    "            step_number += 1\n",
    "            if feature_efel[cellName]['NetPyNE'][cellName][feature_name][str(ampstim[step_number])]==0:\n",
    "                step_number += 1\n",
    "                if feature_efel[cellName]['NetPyNE'][cellName][feature_name][str(ampstim[step_number])]==0:\n",
    "                    step_number += 1\n",
    "                    if feature_efel[cellName]['NetPyNE'][cellName][feature_name][str(ampstim[step_number])]==0:\n",
    "                        step_number += 1\n",
    "        \n",
    "        if step_number < 4:\n",
    "#             print(cellName, feature_name, ampstim[step_number],'BBP', feature_efel[cellName]['BBP'][cellName][feature_name][str(ampstim[step_number])])\n",
    "#             print(cellName, feature_name, ampstim[step_number], 'NetPyNE', feature_efel[cellName]['NetPyNE'][cellName][feature_name][str(ampstim[step_number])])\n",
    "            if cell in StochKvcells:\n",
    "                feature_BBP_Stoch.append(feature_efel[cellName]['BBP'][cellName][feature_name][str(ampstim[step_number])])\n",
    "                feature_NetPyNE_Stoch.append(feature_efel[cellName]['NetPyNE'][cellName][feature_name][str(ampstim[step_number])])\n",
    "            else:\n",
    "                feature_BBP.append(feature_efel[cellName]['BBP'][cellName][feature_name][str(ampstim[step_number])])\n",
    "                feature_NetPyNE.append(feature_efel[cellName]['NetPyNE'][cellName][feature_name][str(ampstim[step_number])])\n",
    "\n",
    "# plot\n",
    "fontsiz=22\n",
    "figSize = (12,5)\n",
    "fig = plt.figure(figsize=figSize)  # Open a new figure\n",
    "fig.suptitle('Time to second spike', fontsize=15, fontweight='bold')\n",
    "plt.subplot(1, 1, 1)\n",
    "plt.ylabel('BBP', fontsize=fontsiz)\n",
    "plt.plot(feature_NetPyNE, feature_BBP, 'go', label='Cells without StochKv channel') \n",
    "plt.plot(feature_NetPyNE_Stoch, feature_BBP_Stoch, 'kx', label='Cells with StochKv channel') \n",
    "plt.xlabel('NetPyNE', fontsize=fontsiz)\n",
    "plt.xlim(-20, 2000)\n",
    "plt.ylim(-20, 2000)\n",
    "plt.grid(False)\n",
    "plt.legend(loc='upper right', bbox_to_anchor=(0.315, 0.95))\n",
    "# plt.ion()\n",
    "plt.savefig(rootFolder + '/info/scripts_comparations/Figures-comparation/0.1_0.2_0.4_0.8_nA/comparation_%s.png' % feature_name, facecolor = 'white' , dpi=300)\n",
    "                    "
   ]
  },
  {
   "cell_type": "code",
   "execution_count": null,
   "metadata": {},
   "outputs": [],
   "source": []
  }
 ],
 "metadata": {
  "kernelspec": {
   "display_name": "Python 3 (ipykernel)",
   "language": "python",
   "name": "python3"
  },
  "language_info": {
   "codemirror_mode": {
    "name": "ipython",
    "version": 3
   },
   "file_extension": ".py",
   "mimetype": "text/x-python",
   "name": "python",
   "nbconvert_exporter": "python",
   "pygments_lexer": "ipython3",
   "version": "3.8.12"
  },
  "widgets": {
   "state": {
    "5d7515ec2d3c485faf342256962a9e1b": {
     "views": [
      {
       "cell_index": 55
      }
     ]
    },
    "67b10b1ff7bd4d00996c6f8c66ea2f54": {
     "views": [
      {
       "cell_index": 87
      }
     ]
    },
    "ac8a9e4ca55645a3828b4266fadf29a9": {
     "views": [
      {
       "cell_index": 41
      }
     ]
    }
   },
   "version": "1.2.0"
  }
 },
 "nbformat": 4,
 "nbformat_minor": 2
}
