{
 "cells": [
  {
   "cell_type": "code",
   "execution_count": 1,
   "metadata": {},
   "outputs": [
    {
     "data": {
      "text/html": [
       "<style>.container { width:100% !important; }</style>"
      ],
      "text/plain": [
       "<IPython.core.display.HTML object>"
      ]
     },
     "metadata": {},
     "output_type": "display_data"
    }
   ],
   "source": [
    "from IPython.display import display, HTML\n",
    "display(HTML(\"<style>.container { width:100% !important; }</style>\"))"
   ]
  },
  {
   "cell_type": "markdown",
   "metadata": {
    "id": "iUZ8I_prpaP2"
   },
   "source": [
    "# Input-output properties cells"
   ]
  },
  {
   "cell_type": "code",
   "execution_count": 2,
   "metadata": {
    "id": "4CIZw31ZpaP7"
   },
   "outputs": [
    {
     "name": "stdout",
     "output_type": "stream",
     "text": [
      "The history saving thread hit an unexpected error (OperationalError('database is locked')).History will not be written to the database.\n"
     ]
    }
   ],
   "source": [
    "import numpy as np\n",
    "import os\n",
    "import pandas as pd\n",
    "import matplotlib.pyplot as plt"
   ]
  },
  {
   "cell_type": "code",
   "execution_count": 3,
   "metadata": {},
   "outputs": [
    {
     "name": "stdout",
     "output_type": "stream",
     "text": [
      "/home/fernando/S1_netpyne/sim/\n"
     ]
    }
   ],
   "source": [
    "rootFolder = '/home/fernando/S1_netpyne/sim/'\n",
    "# rootFolder = os.getcwd()\n",
    "os.chdir(rootFolder)\n",
    "print(rootFolder)\n",
    "folder = os.listdir('cell_data/')\n",
    "folder = sorted(folder)\n",
    "\n",
    "savedata = 1 # Save Netpyne and BBP soma_voltage"
   ]
  },
  {
   "cell_type": "code",
   "execution_count": 4,
   "metadata": {},
   "outputs": [],
   "source": [
    "# !nrnivmodl mod"
   ]
  },
  {
   "cell_type": "code",
   "execution_count": 5,
   "metadata": {},
   "outputs": [],
   "source": [
    "def loadTemplateName(cellnumber):     \n",
    "    f = open(outFolder+'/template.hoc', 'r')\n",
    "    for line in f.readlines():\n",
    "        if 'begintemplate' in line:\n",
    "            templatename = str(line)     \n",
    "    templatename=templatename[:-1]        \n",
    "    templatename=templatename[14:]\n",
    "    return templatename"
   ]
  },
  {
   "cell_type": "markdown",
   "metadata": {
    "id": "Y2j5wftWpaQN"
   },
   "source": [
    "## Netpyne"
   ]
  },
  {
   "cell_type": "code",
   "execution_count": 6,
   "metadata": {
    "id": "3__pCUSRpaQN"
   },
   "outputs": [],
   "source": [
    "from netpyne import specs, sim   \n",
    "\n",
    "# Network parameters\n",
    "netParams = specs.NetParams()  # object of class NetParams to store the network parameters"
   ]
  },
  {
   "cell_type": "code",
   "execution_count": 7,
   "metadata": {
    "id": "G0LEiiRR9hAq"
   },
   "outputs": [],
   "source": [
    "%matplotlib inline"
   ]
  },
  {
   "cell_type": "code",
   "execution_count": 8,
   "metadata": {
    "id": "uE10zG1JpaQP"
   },
   "outputs": [],
   "source": [
    "## cfg  \n",
    "cfg = specs.SimConfig()\t\t\t\t\t            # object of class SimConfig to store simulation configuration\n",
    "cfg.duration = 5000.0 \t\t\t\t\t\t            # Duration of the simulation, in ms\n",
    "cfg.dt = 0.05\t\t\t\t\t\t\t\t                # Internal integration timestep to use\n",
    "cfg.verbose = False\t\t\t\t\t\t\t                # Show detailed messages \n",
    "cfg.recordTraces = {'V_soma':{'sec':'soma','loc':0.5,'var':'v'}}  # Dict with traces to record\n",
    "cfg.recordStep = 0.1 \t\t\t\n",
    "cfg.printRunTime = 0.1 # in sec\t\t\t\n",
    "\n",
    "cfg.seeds = {'conn': 1, 'stim': 1, 'loc': 1} \n",
    "cfg.hParams = {'celsius': 34, 'v_init': -71.0}  \n",
    "cfg.verbose = False\n",
    "cfg.createNEURONObj = True\n",
    "cfg.createPyStruct = True  \n",
    "#------------------------------------------------------------------------------\n",
    "# Saving\n",
    "#------------------------------------------------------------------------------\n",
    "cfg.filename = 'model_output'  \t\t\t# Set file output name\n",
    "cfg.savePickle = False         \t## Save pkl file\n",
    "cfg.saveJson = False\t           \t## Save json file\n",
    "cfg.saveDataInclude = ['simData'] ## 'simData' , 'simConfig', 'netParams'\n",
    "cfg.backupCfgFile = None \t\t##  \n",
    "cfg.gatherOnlySimData = False\t##  \n",
    "cfg.saveCellSecs = False\t\t\t\n",
    "cfg.saveCellConns = True\t\n",
    "\n",
    "cfg.analysis['plotTraces'] = {'include': [0,1,2,3,4,5,6,7,8,9,10,11,12,13,14,15,16,17,18,19], 'oneFigPer': 'trace', 'overlay': True, 'timeRange': [0,5000], 'saveFig': True, 'showFig': True, 'figSize':(12,4)} # Plot recorded traces for this list of cells\n",
    "# cfg.analysis['plotShape'] = {'includePre': [0],'includePre': [0], 'saveFig': True, 'showFig': True, 'figSize':(12,12)}\n"
   ]
  },
  {
   "cell_type": "code",
   "execution_count": 9,
   "metadata": {
    "scrolled": false
   },
   "outputs": [
    {
     "data": {
      "text/plain": [
       "['L23_PC_cADpyr229_4']"
      ]
     },
     "execution_count": 9,
     "metadata": {},
     "output_type": "execute_result"
    }
   ],
   "source": [
    "# for i,metype in enumerate(folder):\n",
    "#     print(i,metype)\n",
    "folder[268:269]"
   ]
  },
  {
   "cell_type": "code",
   "execution_count": 10,
   "metadata": {
    "scrolled": true
   },
   "outputs": [
    {
     "name": "stderr",
     "output_type": "stream",
     "text": [
      "NEURON: morphology_c292d67a2e : a template cannot be redefined\n",
      " in morphology.hoc near line 34\n",
      " begintemplate morphology_c292d67a2e\n",
      "                                   ^\n",
      "        xopen(\"morphology.hoc\")\n",
      "      execute1(\"{xopen(\"mo...\")\n",
      "    load_file(\"morphology.hoc\")\n",
      "  xopen(\"template.hoc\")\n",
      "NEURON: cADpyr229_biophys : a template cannot be redefined\n",
      " in biophysics.hoc near line 33\n",
      " begintemplate cADpyr229_biophys\n",
      "                               ^\n",
      "        xopen(\"biophysics.hoc\")\n",
      "      execute1(\"{xopen(\"bi...\")\n",
      "    load_file(\"biophysics.hoc\")\n",
      "  xopen(\"template.hoc\")\n",
      "NEURON: synapses_c292d67a2e : a template cannot be redefined\n",
      " in synapses.hoc near line 31\n",
      " begintemplate synapses_c292d67a2e                \n",
      "                                 ^\n",
      "        xopen(\"synapses.hoc\")\n",
      "      execute1(\"{xopen(\"sy...\")\n",
      "    load_file(\"synapses/s...\")\n",
      "  xopen(\"template.hoc\")\n"
     ]
    },
    {
     "name": "stdout",
     "output_type": "stream",
     "text": [
      "\t0 \n",
      "\t0 \n",
      "\t0 \n",
      "cADpyr229_L23_PC_c292d67a2e[0]\n"
     ]
    }
   ],
   "source": [
    "#------------------------------------------------------------------------------\n",
    "# Cell parameters\n",
    "#------------------------------------------------------------------------------\n",
    "#StochKv_deterministic.mod\n",
    "for cellnumber in [268]:\n",
    "    cellName = folder[cellnumber]\n",
    "    outFolder = rootFolder+'/cell_data/'+folder[cellnumber]\n",
    "    cellTemplateName = loadTemplateName(cellnumber)\n",
    "    cellRule = netParams.importCellParams(label=cellName, somaAtOrigin=False,\n",
    "        conds={'cellType': cellName, 'cellModel': 'HH_full'},\n",
    "        fileName='cellwrapper.py',\n",
    "        cellName='loadCell',\n",
    "        cellInstance = True,\n",
    "        cellArgs={'cellName': cellName, 'cellTemplateName': cellTemplateName})"
   ]
  },
  {
   "cell_type": "code",
   "execution_count": 11,
   "metadata": {},
   "outputs": [
    {
     "name": "stdout",
     "output_type": "stream",
     "text": [
      "L23_PC_cADpyr229_4 all soma_0\n",
      "L23_PC_cADpyr229_4 somatic soma_0\n"
     ]
    }
   ],
   "source": [
    "for cellnumber in [268]:\n",
    "    # ---------------------------------------------------------------------------------------------------- #\n",
    "    cellName = folder[cellnumber]\n",
    "    outFolder = rootFolder+'/cell_data/'+folder[cellnumber]\n",
    "    cellTemplateName = loadTemplateName(cellnumber)\n",
    "    \n",
    "    # ---------------------------------------------------------------------------------------------------- #\n",
    "    netParams.renameCellParamsSec(label=cellName, oldSec='soma_0', newSec='soma')\n",
    "    \n",
    "    for secname2 in netParams.cellParams[cellName]['secLists'].keys():\n",
    "        if 'soma_0' in netParams.cellParams[cellName]['secLists'][secname2]:\n",
    "            print(cellName,secname2,netParams.cellParams[cellName]['secLists'][secname2][0])\n",
    "            netParams.cellParams[cellName]['secLists'][secname2][0] = 'soma'\n",
    "    # ---------------------------------------------------------------------------------------------------- #\n",
    "    \n",
    "    nonSpiny = ['axon_0', 'axon_1']\n",
    "    netParams.cellParams[cellName]['secLists']['spiny'] = [sec for sec in netParams.cellParams[cellName]['secLists']['all'] if sec not in nonSpiny]\n",
    "    nonSpinyEE = ['axon_0', 'axon_1', 'soma']\n",
    "    netParams.cellParams[cellName]['secLists']['spinyEE'] = [sec for sec in netParams.cellParams[cellName]['secLists']['all'] if sec not in nonSpinyEE]    \n",
    "    \n",
    "    # ---------------------------------------------------------------------------------------------------- #\n",
    "    for ii in range(20):\n",
    "        netParams.popParams[cellName + '_' + str(ii)] = {'cellType': cellName, 'numCells': 1, 'cellModel': 'HH_full'}"
   ]
  },
  {
   "cell_type": "code",
   "execution_count": 12,
   "metadata": {},
   "outputs": [
    {
     "data": {
      "text/plain": [
       "{SectionList[0]: [], SectionList[1]: [], all: ['soma', 'dend_0', 'dend_1', 'dend_2', 'dend_3', 'dend_4', 'dend_5', 'dend_6', 'dend_7', 'dend_8', 'dend_9', 'dend_10', 'dend_11', 'dend_12', 'dend_13', 'dend_14', 'dend_15', 'apic_0', 'apic_1', 'apic_2', 'apic_3', 'apic_4', 'apic_5', 'apic_6', 'apic_7', 'apic_8', 'apic_9', 'apic_10', 'apic_11', 'apic_12', 'apic_13', 'apic_14', 'apic_15', 'apic_16', 'apic_17', 'apic_18', 'apic_19', 'apic_20', 'apic_21', 'apic_22', 'apic_23', 'apic_24', 'apic_25', 'apic_26', 'apic_27', 'apic_28', 'apic_29', 'apic_30', 'apic_31', 'apic_32', 'apic_33', 'apic_34', 'apic_35', 'apic_36', 'apic_37', 'apic_38', 'apic_39', 'apic_40', 'apic_41', 'apic_42', 'apic_43', 'apic_44', 'apic_45', 'apic_46', 'apic_47', 'apic_48', 'apic_49', 'apic_50', 'apic_51', 'apic_52', 'apic_53', 'apic_54', 'apic_55', 'apic_56', 'apic_57', 'apic_58', 'apic_59', 'apic_60', 'apic_61', 'apic_62', 'axon_0', 'axon_1'], somatic: ['soma'], basal: ['dend_0', 'dend_1', 'dend_2', 'dend_3', 'dend_4', 'dend_5', 'dend_6', 'dend_7', 'dend_8', 'dend_9', 'dend_10', 'dend_11', 'dend_12', 'dend_13', 'dend_14', 'dend_15'], apical: ['apic_0', 'apic_1', 'apic_2', 'apic_3', 'apic_4', 'apic_5', 'apic_6', 'apic_7', 'apic_8', 'apic_9', 'apic_10', 'apic_11', 'apic_12', 'apic_13', 'apic_14', 'apic_15', 'apic_16', 'apic_17', 'apic_18', 'apic_19', 'apic_20', 'apic_21', 'apic_22', 'apic_23', 'apic_24', 'apic_25', 'apic_26', 'apic_27', 'apic_28', 'apic_29', 'apic_30', 'apic_31', 'apic_32', 'apic_33', 'apic_34', 'apic_35', 'apic_36', 'apic_37', 'apic_38', 'apic_39', 'apic_40', 'apic_41', 'apic_42', 'apic_43', 'apic_44', 'apic_45', 'apic_46', 'apic_47', 'apic_48', 'apic_49', 'apic_50', 'apic_51', 'apic_52', 'apic_53', 'apic_54', 'apic_55', 'apic_56', 'apic_57', 'apic_58', 'apic_59', 'apic_60', 'apic_61', 'apic_62'], axonal: ['axon_0', 'axon_1'], spiny: ['soma', 'dend_0', 'dend_1', 'dend_2', 'dend_3', 'dend_4', 'dend_5', 'dend_6', 'dend_7', 'dend_8', 'dend_9', 'dend_10', 'dend_11', 'dend_12', 'dend_13', 'dend_14', 'dend_15', 'apic_0', 'apic_1', 'apic_2', 'apic_3', 'apic_4', 'apic_5', 'apic_6', 'apic_7', 'apic_8', 'apic_9', 'apic_10', 'apic_11', 'apic_12', 'apic_13', 'apic_14', 'apic_15', 'apic_16', 'apic_17', 'apic_18', 'apic_19', 'apic_20', 'apic_21', 'apic_22', 'apic_23', 'apic_24', 'apic_25', 'apic_26', 'apic_27', 'apic_28', 'apic_29', 'apic_30', 'apic_31', 'apic_32', 'apic_33', 'apic_34', 'apic_35', 'apic_36', 'apic_37', 'apic_38', 'apic_39', 'apic_40', 'apic_41', 'apic_42', 'apic_43', 'apic_44', 'apic_45', 'apic_46', 'apic_47', 'apic_48', 'apic_49', 'apic_50', 'apic_51', 'apic_52', 'apic_53', 'apic_54', 'apic_55', 'apic_56', 'apic_57', 'apic_58', 'apic_59', 'apic_60', 'apic_61', 'apic_62'], spinyEE: ['dend_0', 'dend_1', 'dend_2', 'dend_3', 'dend_4', 'dend_5', 'dend_6', 'dend_7', 'dend_8', 'dend_9', 'dend_10', 'dend_11', 'dend_12', 'dend_13', 'dend_14', 'dend_15', 'apic_0', 'apic_1', 'apic_2', 'apic_3', 'apic_4', 'apic_5', 'apic_6', 'apic_7', 'apic_8', 'apic_9', 'apic_10', 'apic_11', 'apic_12', 'apic_13', 'apic_14', 'apic_15', 'apic_16', 'apic_17', 'apic_18', 'apic_19', 'apic_20', 'apic_21', 'apic_22', 'apic_23', 'apic_24', 'apic_25', 'apic_26', 'apic_27', 'apic_28', 'apic_29', 'apic_30', 'apic_31', 'apic_32', 'apic_33', 'apic_34', 'apic_35', 'apic_36', 'apic_37', 'apic_38', 'apic_39', 'apic_40', 'apic_41', 'apic_42', 'apic_43', 'apic_44', 'apic_45', 'apic_46', 'apic_47', 'apic_48', 'apic_49', 'apic_50', 'apic_51', 'apic_52', 'apic_53', 'apic_54', 'apic_55', 'apic_56', 'apic_57', 'apic_58', 'apic_59', 'apic_60', 'apic_61', 'apic_62'], _repr_mimebundle_: {}}"
      ]
     },
     "execution_count": 12,
     "metadata": {},
     "output_type": "execute_result"
    }
   ],
   "source": [
    "netParams.cellParams[cellName]['secLists']"
   ]
  },
  {
   "cell_type": "code",
   "execution_count": 13,
   "metadata": {
    "scrolled": true
   },
   "outputs": [
    {
     "name": "stdout",
     "output_type": "stream",
     "text": [
      "dend_15\n"
     ]
    }
   ],
   "source": [
    "for cellnumber in [268]:\n",
    "    cellName = folder[cellnumber]\n",
    "    print(netParams.cellParams[cellName]['secLists']['basal'][-1])"
   ]
  },
  {
   "cell_type": "code",
   "execution_count": 14,
   "metadata": {},
   "outputs": [],
   "source": [
    "# create custom list of spike times\n",
    "spkTimes = [2000,2500,3000,3500,4000,4500]\n",
    "\n",
    "netParams.popParams['presyn'] = {'cellModel': 'VecStim', 'numCells': 1, 'spkTimes': spkTimes}  # VecStim with spike times"
   ]
  },
  {
   "cell_type": "code",
   "execution_count": 15,
   "metadata": {
    "colab": {
     "base_uri": "https://localhost:8080/"
    },
    "id": "hEVEsuIXpaQP",
    "outputId": "b07bb237-d0a8-44f4-a7f9-5f5cf698508a"
   },
   "outputs": [
    {
     "data": {
      "text/plain": [
       "odict_keys(['L23_PC_cADpyr229_4'])"
      ]
     },
     "execution_count": 15,
     "metadata": {},
     "output_type": "execute_result"
    }
   ],
   "source": [
    "netParams.cellParams.keys()"
   ]
  },
  {
   "cell_type": "code",
   "execution_count": 16,
   "metadata": {},
   "outputs": [
    {
     "data": {
      "text/plain": [
       "['L23_PC_cADpyr229_4_0',\n",
       " 'L23_PC_cADpyr229_4_1',\n",
       " 'L23_PC_cADpyr229_4_2',\n",
       " 'L23_PC_cADpyr229_4_3',\n",
       " 'L23_PC_cADpyr229_4_4',\n",
       " 'L23_PC_cADpyr229_4_5',\n",
       " 'L23_PC_cADpyr229_4_6',\n",
       " 'L23_PC_cADpyr229_4_7',\n",
       " 'L23_PC_cADpyr229_4_8',\n",
       " 'L23_PC_cADpyr229_4_9',\n",
       " 'L23_PC_cADpyr229_4_10',\n",
       " 'L23_PC_cADpyr229_4_11',\n",
       " 'L23_PC_cADpyr229_4_12',\n",
       " 'L23_PC_cADpyr229_4_13',\n",
       " 'L23_PC_cADpyr229_4_14',\n",
       " 'L23_PC_cADpyr229_4_15',\n",
       " 'L23_PC_cADpyr229_4_16',\n",
       " 'L23_PC_cADpyr229_4_17',\n",
       " 'L23_PC_cADpyr229_4_18',\n",
       " 'L23_PC_cADpyr229_4_19']"
      ]
     },
     "execution_count": 16,
     "metadata": {},
     "output_type": "execute_result"
    }
   ],
   "source": [
    "list(netParams.popParams.keys())[0:-1]"
   ]
  },
  {
   "cell_type": "code",
   "execution_count": 17,
   "metadata": {},
   "outputs": [],
   "source": [
    "import scipy.stats as stats\n",
    "\n",
    "#E2 -> syn 119 E2 EE 0.68±0.46 1.74±0.18 0.46±0.260 671±17 17±5 L23_PC:L23_PC\n",
    "\n",
    "lower, upper = 0.44, 0.48\n",
    "mu, sigma = 0.46, 0.26\n",
    "X = stats.truncnorm(\n",
    "    (lower - mu) / sigma, (upper - mu) / sigma, loc=mu, scale=sigma)\n",
    "\n",
    "Use = X.rvs(20)\n",
    "\n",
    "for ii in range(20):\n",
    "    netParams.synMechParams['L23_PC:L23_PC_'+str(ii+1)] = {'mod': 'ProbAMPANMDA_EMS',\n",
    "                                          'Dep': np.random.normal(671,17),\n",
    "                                          'Fac': np.random.normal(17,5),\n",
    "                                          'Use': Use[ii],\n",
    "                                          'tau_r_AMPA': 0.2,\n",
    "                                          'tau_d_AMPA': np.random.normal(1.74,0.18),\n",
    "                                          'NMDA_ratio': 0.4,\n",
    "                                          'tau_r_NMDA': 0.29,\n",
    "                                          'tau_d_NMDA': 43.0}"
   ]
  },
  {
   "cell_type": "code",
   "execution_count": 18,
   "metadata": {},
   "outputs": [],
   "source": [
    "import random\n",
    "\n",
    "lower, upper = 0.2243, 1.1426\n",
    "mu, sigma = 0.68, 0.46\n",
    "X = stats.truncnorm(\n",
    "    (lower - mu) / sigma, (upper - mu) / sigma, loc=mu, scale=sigma)\n",
    "\n",
    "weight = X.rvs(20)\n",
    "\n",
    "## Cell connectivity rules\n",
    "for ii in range(20):\n",
    "    \n",
    "    listsecs = random.sample( netParams.cellParams[cellName]['secLists']['basal'], len(netParams.cellParams[cellName]['secLists']['basal']))\n",
    "    \n",
    "    netParams.connParams['pre->post'+str(ii+1)] = { \n",
    "            'preConds': {'pop': 'presyn'},\n",
    "            'postConds': {'pop': list(netParams.popParams.keys())[ii]},\n",
    "            'sec': listsecs,                  # target postsyn section\n",
    "            'synMech': 'L23_PC:L23_PC_'+str(ii+1),              # target synaptic mechanism\n",
    "            'weight': weight[ii],                 #'max(0.36, normal(0.68,0.46))',                 # synaptic weight \n",
    "            'synsPerConn': 3, # 'int(max(2, normal(4,2)))',\n",
    "            'delay': 0.05}             "
   ]
  },
  {
   "cell_type": "code",
   "execution_count": 19,
   "metadata": {},
   "outputs": [
    {
     "name": "stdout",
     "output_type": "stream",
     "text": [
      "\n",
      "Start time:  2022-06-10 16:11:29.664903\n",
      "\n",
      "Creating network of 21 cell populations on 1 hosts...\n",
      "  Number of cells on node 0: 21 \n",
      "  Done; cell creation time = 0.48 s.\n",
      "Making connections...\n",
      "  Number of connections on node 0: 20 \n",
      "  Number of synaptic contacts on node 0: 60 \n",
      "  Done; cell connection time = 0.01 s.\n"
     ]
    },
    {
     "data": {
      "text/plain": [
       "[[{preGid: 20, sec: 'dend_12', loc: 0.7321916375360665, synMech: 'L23_PC:L23_PC_1', weight: 0.5269303827114127, delay: 0.05, label: 'pre->post1', hObj: NetCon[0]},\n",
       "  {preGid: 20, sec: 'dend_6', loc: 0.21672291215204537, synMech: 'L23_PC:L23_PC_1', weight: 0.5269303827114127, delay: 0.05, label: 'pre->post1', hObj: NetCon[1]},\n",
       "  {preGid: 20, sec: 'dend_13', loc: 0.9325504775338266, synMech: 'L23_PC:L23_PC_1', weight: 0.5269303827114127, delay: 0.05, label: 'pre->post1', hObj: NetCon[2]}],\n",
       " [{preGid: 20, sec: 'dend_10', loc: 0.6232392693731196, synMech: 'L23_PC:L23_PC_2', weight: 0.9625637713572224, delay: 0.05, label: 'pre->post2', hObj: NetCon[3]},\n",
       "  {preGid: 20, sec: 'dend_15', loc: 0.8959631092576756, synMech: 'L23_PC:L23_PC_2', weight: 0.9625637713572224, delay: 0.05, label: 'pre->post2', hObj: NetCon[4]},\n",
       "  {preGid: 20, sec: 'dend_2', loc: 0.26417901478222894, synMech: 'L23_PC:L23_PC_2', weight: 0.9625637713572224, delay: 0.05, label: 'pre->post2', hObj: NetCon[5]}],\n",
       " [{preGid: 20, sec: 'dend_15', loc: 0.16039900556314501, synMech: 'L23_PC:L23_PC_3', weight: 0.763081424784962, delay: 0.05, label: 'pre->post3', hObj: NetCon[6]},\n",
       "  {preGid: 20, sec: 'dend_12', loc: 0.7985700667615997, synMech: 'L23_PC:L23_PC_3', weight: 0.763081424784962, delay: 0.05, label: 'pre->post3', hObj: NetCon[7]},\n",
       "  {preGid: 20, sec: 'dend_14', loc: 0.15629911347651185, synMech: 'L23_PC:L23_PC_3', weight: 0.763081424784962, delay: 0.05, label: 'pre->post3', hObj: NetCon[8]}],\n",
       " [{preGid: 20, sec: 'dend_3', loc: 0.8422492069100155, synMech: 'L23_PC:L23_PC_4', weight: 0.9220056744976692, delay: 0.05, label: 'pre->post4', hObj: NetCon[9]},\n",
       "  {preGid: 20, sec: 'dend_2', loc: 0.5457081015356603, synMech: 'L23_PC:L23_PC_4', weight: 0.9220056744976692, delay: 0.05, label: 'pre->post4', hObj: NetCon[10]},\n",
       "  {preGid: 20, sec: 'dend_15', loc: 0.6420602304959823, synMech: 'L23_PC:L23_PC_4', weight: 0.9220056744976692, delay: 0.05, label: 'pre->post4', hObj: NetCon[11]}],\n",
       " [{preGid: 20, sec: 'dend_13', loc: 0.6042937283376614, synMech: 'L23_PC:L23_PC_5', weight: 0.597422135507952, delay: 0.05, label: 'pre->post5', hObj: NetCon[12]},\n",
       "  {preGid: 20, sec: 'dend_11', loc: 0.4027191228811643, synMech: 'L23_PC:L23_PC_5', weight: 0.597422135507952, delay: 0.05, label: 'pre->post5', hObj: NetCon[13]},\n",
       "  {preGid: 20, sec: 'dend_2', loc: 0.8278231950380146, synMech: 'L23_PC:L23_PC_5', weight: 0.597422135507952, delay: 0.05, label: 'pre->post5', hObj: NetCon[14]}],\n",
       " [{preGid: 20, sec: 'dend_12', loc: 0.06317223280654635, synMech: 'L23_PC:L23_PC_6', weight: 0.9663017185095122, delay: 0.05, label: 'pre->post6', hObj: NetCon[15]},\n",
       "  {preGid: 20, sec: 'dend_6', loc: 0.13228016924244704, synMech: 'L23_PC:L23_PC_6', weight: 0.9663017185095122, delay: 0.05, label: 'pre->post6', hObj: NetCon[16]},\n",
       "  {preGid: 20, sec: 'dend_14', loc: 0.7133844467662902, synMech: 'L23_PC:L23_PC_6', weight: 0.9663017185095122, delay: 0.05, label: 'pre->post6', hObj: NetCon[17]}],\n",
       " [{preGid: 20, sec: 'dend_15', loc: 0.73008029639418, synMech: 'L23_PC:L23_PC_7', weight: 0.4467891975340139, delay: 0.05, label: 'pre->post7', hObj: NetCon[18]},\n",
       "  {preGid: 20, sec: 'dend_13', loc: 0.7422993382902957, synMech: 'L23_PC:L23_PC_7', weight: 0.4467891975340139, delay: 0.05, label: 'pre->post7', hObj: NetCon[19]},\n",
       "  {preGid: 20, sec: 'dend_12', loc: 0.7511748154334335, synMech: 'L23_PC:L23_PC_7', weight: 0.4467891975340139, delay: 0.05, label: 'pre->post7', hObj: NetCon[20]}],\n",
       " [{preGid: 20, sec: 'dend_2', loc: 0.4162954314893597, synMech: 'L23_PC:L23_PC_8', weight: 0.3369644208741793, delay: 0.05, label: 'pre->post8', hObj: NetCon[21]},\n",
       "  {preGid: 20, sec: 'dend_13', loc: 0.11922267715799713, synMech: 'L23_PC:L23_PC_8', weight: 0.3369644208741793, delay: 0.05, label: 'pre->post8', hObj: NetCon[22]},\n",
       "  {preGid: 20, sec: 'dend_11', loc: 0.5448556785772828, synMech: 'L23_PC:L23_PC_8', weight: 0.3369644208741793, delay: 0.05, label: 'pre->post8', hObj: NetCon[23]}],\n",
       " [{preGid: 20, sec: 'dend_2', loc: 0.975005704485212, synMech: 'L23_PC:L23_PC_9', weight: 0.22947794932618154, delay: 0.05, label: 'pre->post9', hObj: NetCon[24]},\n",
       "  {preGid: 20, sec: 'dend_14', loc: 0.8408717838193367, synMech: 'L23_PC:L23_PC_9', weight: 0.22947794932618154, delay: 0.05, label: 'pre->post9', hObj: NetCon[25]},\n",
       "  {preGid: 20, sec: 'dend_7', loc: 0.41065333972489154, synMech: 'L23_PC:L23_PC_9', weight: 0.22947794932618154, delay: 0.05, label: 'pre->post9', hObj: NetCon[26]}],\n",
       " [{preGid: 20, sec: 'dend_15', loc: 0.12028575896402244, synMech: 'L23_PC:L23_PC_10', weight: 0.624260013535797, delay: 0.05, label: 'pre->post10', hObj: NetCon[27]},\n",
       "  {preGid: 20, sec: 'dend_14', loc: 0.9936984364824679, synMech: 'L23_PC:L23_PC_10', weight: 0.624260013535797, delay: 0.05, label: 'pre->post10', hObj: NetCon[28]},\n",
       "  {preGid: 20, sec: 'dend_4', loc: 0.7460648110979163, synMech: 'L23_PC:L23_PC_10', weight: 0.624260013535797, delay: 0.05, label: 'pre->post10', hObj: NetCon[29]}],\n",
       " [{preGid: 20, sec: 'dend_6', loc: 0.5769883309499498, synMech: 'L23_PC:L23_PC_11', weight: 0.7639251723661215, delay: 0.05, label: 'pre->post11', hObj: NetCon[30]},\n",
       "  {preGid: 20, sec: 'dend_14', loc: 0.15841701624236845, synMech: 'L23_PC:L23_PC_11', weight: 0.7639251723661215, delay: 0.05, label: 'pre->post11', hObj: NetCon[31]},\n",
       "  {preGid: 20, sec: 'dend_3', loc: 0.6177484975152138, synMech: 'L23_PC:L23_PC_11', weight: 0.7639251723661215, delay: 0.05, label: 'pre->post11', hObj: NetCon[32]}],\n",
       " [{preGid: 20, sec: 'dend_6', loc: 0.49007889428001067, synMech: 'L23_PC:L23_PC_12', weight: 0.6826774007504703, delay: 0.05, label: 'pre->post12', hObj: NetCon[33]},\n",
       "  {preGid: 20, sec: 'dend_15', loc: 0.23094962799021237, synMech: 'L23_PC:L23_PC_12', weight: 0.6826774007504703, delay: 0.05, label: 'pre->post12', hObj: NetCon[34]},\n",
       "  {preGid: 20, sec: 'dend_2', loc: 0.7721197088446612, synMech: 'L23_PC:L23_PC_12', weight: 0.6826774007504703, delay: 0.05, label: 'pre->post12', hObj: NetCon[35]}],\n",
       " [{preGid: 20, sec: 'dend_8', loc: 0.1105880720627572, synMech: 'L23_PC:L23_PC_13', weight: 0.5481853263154763, delay: 0.05, label: 'pre->post13', hObj: NetCon[36]},\n",
       "  {preGid: 20, sec: 'dend_14', loc: 0.44499652698409453, synMech: 'L23_PC:L23_PC_13', weight: 0.5481853263154763, delay: 0.05, label: 'pre->post13', hObj: NetCon[37]},\n",
       "  {preGid: 20, sec: 'dend_2', loc: 0.4561123384732707, synMech: 'L23_PC:L23_PC_13', weight: 0.5481853263154763, delay: 0.05, label: 'pre->post13', hObj: NetCon[38]}],\n",
       " [{preGid: 20, sec: 'dend_11', loc: 0.38051953437587877, synMech: 'L23_PC:L23_PC_14', weight: 0.7696095019469714, delay: 0.05, label: 'pre->post14', hObj: NetCon[39]},\n",
       "  {preGid: 20, sec: 'dend_7', loc: 0.5534012983608366, synMech: 'L23_PC:L23_PC_14', weight: 0.7696095019469714, delay: 0.05, label: 'pre->post14', hObj: NetCon[40]},\n",
       "  {preGid: 20, sec: 'dend_14', loc: 0.9342279492404778, synMech: 'L23_PC:L23_PC_14', weight: 0.7696095019469714, delay: 0.05, label: 'pre->post14', hObj: NetCon[41]}],\n",
       " [{preGid: 20, sec: 'dend_13', loc: 0.8242103770438104, synMech: 'L23_PC:L23_PC_15', weight: 0.645087224195736, delay: 0.05, label: 'pre->post15', hObj: NetCon[42]},\n",
       "  {preGid: 20, sec: 'dend_11', loc: 0.6391082133826735, synMech: 'L23_PC:L23_PC_15', weight: 0.645087224195736, delay: 0.05, label: 'pre->post15', hObj: NetCon[43]},\n",
       "  {preGid: 20, sec: 'dend_8', loc: 0.15366732475916584, synMech: 'L23_PC:L23_PC_15', weight: 0.645087224195736, delay: 0.05, label: 'pre->post15', hObj: NetCon[44]}],\n",
       " [{preGid: 20, sec: 'dend_14', loc: 0.7456104015517887, synMech: 'L23_PC:L23_PC_16', weight: 0.47637140511362774, delay: 0.05, label: 'pre->post16', hObj: NetCon[45]},\n",
       "  {preGid: 20, sec: 'dend_11', loc: 0.9940486724342977, synMech: 'L23_PC:L23_PC_16', weight: 0.47637140511362774, delay: 0.05, label: 'pre->post16', hObj: NetCon[46]},\n",
       "  {preGid: 20, sec: 'dend_6', loc: 0.907455547894384, synMech: 'L23_PC:L23_PC_16', weight: 0.47637140511362774, delay: 0.05, label: 'pre->post16', hObj: NetCon[47]}],\n",
       " [{preGid: 20, sec: 'dend_9', loc: 0.4192758964421244, synMech: 'L23_PC:L23_PC_17', weight: 0.22860684695425243, delay: 0.05, label: 'pre->post17', hObj: NetCon[48]},\n",
       "  {preGid: 20, sec: 'dend_2', loc: 0.927003163117799, synMech: 'L23_PC:L23_PC_17', weight: 0.22860684695425243, delay: 0.05, label: 'pre->post17', hObj: NetCon[49]},\n",
       "  {preGid: 20, sec: 'dend_6', loc: 0.7087443263817487, synMech: 'L23_PC:L23_PC_17', weight: 0.22860684695425243, delay: 0.05, label: 'pre->post17', hObj: NetCon[50]}],\n",
       " [{preGid: 20, sec: 'dend_2', loc: 0.672209825336751, synMech: 'L23_PC:L23_PC_18', weight: 0.39796693663755267, delay: 0.05, label: 'pre->post18', hObj: NetCon[51]},\n",
       "  {preGid: 20, sec: 'dend_14', loc: 0.09732136232593588, synMech: 'L23_PC:L23_PC_18', weight: 0.39796693663755267, delay: 0.05, label: 'pre->post18', hObj: NetCon[52]},\n",
       "  {preGid: 20, sec: 'dend_10', loc: 0.211384340855034, synMech: 'L23_PC:L23_PC_18', weight: 0.39796693663755267, delay: 0.05, label: 'pre->post18', hObj: NetCon[53]}],\n",
       " [{preGid: 20, sec: 'dend_14', loc: 0.48946180017817464, synMech: 'L23_PC:L23_PC_19', weight: 1.1234483839196685, delay: 0.05, label: 'pre->post19', hObj: NetCon[54]},\n",
       "  {preGid: 20, sec: 'dend_7', loc: 0.1310951735298701, synMech: 'L23_PC:L23_PC_19', weight: 1.1234483839196685, delay: 0.05, label: 'pre->post19', hObj: NetCon[55]},\n",
       "  {preGid: 20, sec: 'dend_11', loc: 0.5333646059317576, synMech: 'L23_PC:L23_PC_19', weight: 1.1234483839196685, delay: 0.05, label: 'pre->post19', hObj: NetCon[56]}],\n",
       " [{preGid: 20, sec: 'dend_2', loc: 0.1779528724272758, synMech: 'L23_PC:L23_PC_20', weight: 1.0268965170041084, delay: 0.05, label: 'pre->post20', hObj: NetCon[57]},\n",
       "  {preGid: 20, sec: 'dend_7', loc: 0.6705565979251187, synMech: 'L23_PC:L23_PC_20', weight: 1.0268965170041084, delay: 0.05, label: 'pre->post20', hObj: NetCon[58]},\n",
       "  {preGid: 20, sec: 'dend_13', loc: 0.41826663625532917, synMech: 'L23_PC:L23_PC_20', weight: 1.0268965170041084, delay: 0.05, label: 'pre->post20', hObj: NetCon[59]}],\n",
       " []]"
      ]
     },
     "execution_count": 19,
     "metadata": {},
     "output_type": "execute_result"
    }
   ],
   "source": [
    "sim.initialize(\n",
    "    simConfig = cfg, \t\n",
    "    netParams = netParams)  \t\t\t\t# create network object and set cfg and net params\n",
    "sim.net.createPops()               \t\t\t# instantiate network populations\n",
    "sim.net.createCells()              \t\t\t# instantiate network cells based on defined populations\n",
    "sim.net.connectCells()            \t\t\t# create connections between cells based on params"
   ]
  },
  {
   "cell_type": "code",
   "execution_count": 20,
   "metadata": {
    "colab": {
     "base_uri": "https://localhost:8080/"
    },
    "id": "TlPw2mEjDLl-",
    "outputId": "2b2b2cbd-41ce-4114-b2d3-4cb8bd5f5dcc"
   },
   "outputs": [
    {
     "name": "stdout",
     "output_type": "stream",
     "text": [
      "  Number of stims on node 0: 0 \n",
      "  Done; cell stims creation time = 0.00 s.\n",
      "Recording 20 traces of 1 types on node 0\n"
     ]
    },
    {
     "data": {
      "text/plain": [
       "{spkt: Vector[2307], spkid: Vector[2308], V_soma: {cell_0: Vector[2309], cell_1: Vector[2310], cell_2: Vector[2311], cell_3: Vector[2312], cell_4: Vector[2313], cell_5: Vector[2314], cell_6: Vector[2315], cell_7: Vector[2316], cell_8: Vector[2317], cell_9: Vector[2318], cell_10: Vector[2319], cell_11: Vector[2320], cell_12: Vector[2321], cell_13: Vector[2322], cell_14: Vector[2323], cell_15: Vector[2324], cell_16: Vector[2325], cell_17: Vector[2326], cell_18: Vector[2327], cell_19: Vector[2328]}, t: Vector[2329], _repr_mimebundle_: {}}"
      ]
     },
     "execution_count": 20,
     "metadata": {},
     "output_type": "execute_result"
    }
   ],
   "source": [
    "sim.net.addStims() \t\t\t\t\t\t\t# add network stimulation\n",
    "sim.setupRecording()              \t\t\t# setup variables to record for each cell (spikes, V traces, etc)"
   ]
  },
  {
   "cell_type": "code",
   "execution_count": null,
   "metadata": {
    "id": "lka0LniMK-ie",
    "scrolled": false
   },
   "outputs": [],
   "source": [
    "sim.runSim()                      \t\t\t# run Neuron simulation  "
   ]
  },
  {
   "cell_type": "code",
   "execution_count": null,
   "metadata": {
    "scrolled": false
   },
   "outputs": [],
   "source": [
    "sim.gatherData()                  \t\t\t# gather spiking data and cell info from each node\n",
    "sim.saveData()                    \t\t\t# save params, cell info and sim output to file (pickle,mat,txt,etc)#\n",
    "sim.analysis.plotData()         \t\t\t# plot spike raster etc"
   ]
  },
  {
   "cell_type": "code",
   "execution_count": null,
   "metadata": {},
   "outputs": [],
   "source": [
    "# sim.analysis.plotRaster(figSize=(10, 3))"
   ]
  },
  {
   "cell_type": "code",
   "execution_count": null,
   "metadata": {
    "scrolled": false
   },
   "outputs": [],
   "source": [
    "alltraces = []\n",
    "gmax1 = []\n",
    "\n",
    "Traces2 = sim.analysis.plotTraces(oneFigPer='trace', overlay=1, timeRange=[1900,2400],axis=False,legend=False,scaleBarLoc=1,figSize=(10, 3),fontSize=6)\n",
    "for number in range(20):\n",
    "    if np.max(Traces2[1]['tracesData'][number]['cell_'+str(number)+'_V_soma'])-np.min(Traces2[1]['tracesData'][number]['cell_'+str(number)+'_V_soma']) > 0.01:\n",
    "        alltraces.append(Traces2[1]['tracesData'][number]['cell_'+str(number)+'_V_soma'])\n",
    "        gmax1.append(np.max(Traces2[1]['tracesData'][number]['cell_'+str(number)+'_V_soma'])-np.min(Traces2[1]['tracesData'][number]['cell_'+str(number)+'_V_soma']))\n",
    "#         print(number,np.max(Traces2[1]['tracesData'][number]['cell_'+str(number)+'_V_soma'])-np.min(Traces2[1]['tracesData'][number]['cell_'+str(number)+'_V_soma']))\n",
    "\n",
    "Traces2 = sim.analysis.plotTraces(oneFigPer='trace', overlay=1, timeRange=[2400,2900],axis=False,legend=False,scaleBarLoc=1,figSize=(10, 3),fontSize=6)\n",
    "for number in range(20):\n",
    "    if np.max(Traces2[1]['tracesData'][number]['cell_'+str(number)+'_V_soma'])-np.min(Traces2[1]['tracesData'][number]['cell_'+str(number)+'_V_soma']) > 0.01:\n",
    "        alltraces.append(Traces2[1]['tracesData'][number]['cell_'+str(number)+'_V_soma'])\n",
    "        gmax1.append(np.max(Traces2[1]['tracesData'][number]['cell_'+str(number)+'_V_soma'])-np.min(Traces2[1]['tracesData'][number]['cell_'+str(number)+'_V_soma']))\n",
    "#         print(number,np.max(Traces2[1]['tracesData'][number]['cell_'+str(number)+'_V_soma'])-np.min(Traces2[1]['tracesData'][number]['cell_'+str(number)+'_V_soma']))\n",
    "\n",
    "Traces2 = sim.analysis.plotTraces(oneFigPer='trace', overlay=1, timeRange=[2900,3400],axis=False,legend=False,scaleBarLoc=1,figSize=(10, 3),fontSize=6)\n",
    "for number in range(20):\n",
    "    if np.max(Traces2[1]['tracesData'][number]['cell_'+str(number)+'_V_soma'])-np.min(Traces2[1]['tracesData'][number]['cell_'+str(number)+'_V_soma']) > 0.01:\n",
    "        alltraces.append(Traces2[1]['tracesData'][number]['cell_'+str(number)+'_V_soma'])\n",
    "        gmax1.append(np.max(Traces2[1]['tracesData'][number]['cell_'+str(number)+'_V_soma'])-np.min(Traces2[1]['tracesData'][number]['cell_'+str(number)+'_V_soma']))\n",
    "#         print(number,np.max(Traces2[1]['tracesData'][number]['cell_'+str(number)+'_V_soma'])-np.min(Traces2[1]['tracesData'][number]['cell_'+str(number)+'_V_soma']))\n",
    "\n",
    "Traces2 = sim.analysis.plotTraces(oneFigPer='trace', overlay=1, timeRange=[3400,3900],axis=False,legend=False,scaleBarLoc=1,figSize=(10, 3),fontSize=6)\n",
    "for number in range(20):\n",
    "    if np.max(Traces2[1]['tracesData'][number]['cell_'+str(number)+'_V_soma'])-np.min(Traces2[1]['tracesData'][number]['cell_'+str(number)+'_V_soma']) > 0.01:\n",
    "        alltraces.append(Traces2[1]['tracesData'][number]['cell_'+str(number)+'_V_soma'])\n",
    "        gmax1.append(np.max(Traces2[1]['tracesData'][number]['cell_'+str(number)+'_V_soma'])-np.min(Traces2[1]['tracesData'][number]['cell_'+str(number)+'_V_soma']))\n",
    "#         print(number,np.max(Traces2[1]['tracesData'][number]['cell_'+str(number)+'_V_soma'])-np.min(Traces2[1]['tracesData'][number]['cell_'+str(number)+'_V_soma']))\n",
    "\n",
    "Traces2 = sim.analysis.plotTraces(oneFigPer='trace', overlay=1, timeRange=[3900,4400],axis=False,legend=False,scaleBarLoc=1,figSize=(10, 3),fontSize=6)\n",
    "for number in range(20):\n",
    "    if np.max(Traces2[1]['tracesData'][number]['cell_'+str(number)+'_V_soma'])-np.min(Traces2[1]['tracesData'][number]['cell_'+str(number)+'_V_soma']) > 0.01:\n",
    "        alltraces.append(Traces2[1]['tracesData'][number]['cell_'+str(number)+'_V_soma'])\n",
    "        gmax1.append(np.max(Traces2[1]['tracesData'][number]['cell_'+str(number)+'_V_soma'])-np.min(Traces2[1]['tracesData'][number]['cell_'+str(number)+'_V_soma']))\n",
    "#         print(number,np.max(Traces2[1]['tracesData'][number]['cell_'+str(number)+'_V_soma'])-np.min(Traces2[1]['tracesData'][number]['cell_'+str(number)+'_V_soma']))\n",
    "\n",
    "Traces2 = sim.analysis.plotTraces(oneFigPer='trace', overlay=1, timeRange=[4400,4900],axis=False,legend=False,scaleBarLoc=1,figSize=(10, 3),fontSize=6)\n",
    "for number in range(20):\n",
    "    if np.max(Traces2[1]['tracesData'][number]['cell_'+str(number)+'_V_soma'])-np.min(Traces2[1]['tracesData'][number]['cell_'+str(number)+'_V_soma']) > 0.01:\n",
    "        alltraces.append(Traces2[1]['tracesData'][number]['cell_'+str(number)+'_V_soma'])\n",
    "        gmax1.append(np.max(Traces2[1]['tracesData'][number]['cell_'+str(number)+'_V_soma'])-np.min(Traces2[1]['tracesData'][number]['cell_'+str(number)+'_V_soma']))\n",
    "#         print(number,np.max(Traces2[1]['tracesData'][number]['cell_'+str(number)+'_V_soma'])-np.min(Traces2[1]['tracesData'][number]['cell_'+str(number)+'_V_soma']))\n",
    "\n",
    "\n",
    "print('L23_PC:L23_PC in silico PSP amplitude (mV; mean ± SD) = %.3f±%.3f' % (np.mean(gmax1),np.std(gmax1)))"
   ]
  },
  {
   "cell_type": "code",
   "execution_count": null,
   "metadata": {},
   "outputs": [],
   "source": [
    "figSize = (4.2,3)\n",
    "fig = plt.figure(figsize=figSize)  # Open a new figure\n",
    "for number in range(np.shape(alltraces)[0]):\n",
    "    plt.plot(alltraces[number]-alltraces[number][0],color = 'lightgray',linewidth=2.0)\n",
    "\n",
    "plt.plot(np.mean(alltraces, axis=0)-np.mean(alltraces, axis=0)[0],color = 'black', linewidth=4.0)\n",
    "# plt.legend(loc='upper right', bbox_to_anchor=(0.95, 1.0))\n",
    "plt.xlim(500,2500)\n",
    "# plt.ylim(-0.25,12.25)\n",
    "plt.xlabel('Time (ms)', fontsize=16)\n",
    "plt.ylabel('PSP (mV)', fontsize=16)\n",
    "plt.xticks(range(500,3500,1000), range(0,300,100), fontsize=14);\n",
    "plt.yticks([0,1,2,3], fontsize=14); \n",
    "\n",
    "\n",
    "plt.savefig('syn_gmax_L23PC_L23PC.png', facecolor = 'white' , dpi=300)"
   ]
  },
  {
   "cell_type": "code",
   "execution_count": null,
   "metadata": {},
   "outputs": [],
   "source": [
    "gmax1"
   ]
  },
  {
   "attachments": {
    "image.png": {
     "image/png": "[encoded data removed]"
    }
   },
   "cell_type": "markdown",
   "metadata": {},
   "source": [
    "<!-- Connection type\ts-type\tin vitro PSP amplitude (mV; mean ± SD)\tin silico PSP amplitude (mV; mean ± SD)\tInput data sources\n",
    "L5TTPC-L5MC\tE1\t0.28 ± 0.3\t0.28 ± 0.18\tSilberberg & Markram, 2007\n",
    "L5MC-L5TTPC\tI2\t0.5 ± 0.3\t0.57 ± 0.5\tSilberberg & Markram, 2007\n",
    "L4SS-L23PC\tE2\t0.7 ± 0.6\t0.7 ± 0.9\tFeldmeyer et al. 2002\n",
    "L5STPC-L5STPC\tE2\t0.9 ± 0.7\t0.91 ± 0.8\tLe Bé et al. 2007\n",
    "L5UTPC-L5UTPC\tE2\t0.9 ± 0.7\t0.91 ± 0.8\tLe Bé et al. 2007\n",
    "L23PC-L23PC\tE2\t1 ± 0.7\t1 ± 0.3\tFeldmeyer et al. 2006\n",
    "L23LBC-L23PC\tI2\t1.2 ± 1.1\t1.2 ± 1.02\tBlatow et al. 2003\n",
    "L23NBC-L23PC\tI2\t1.2 ± 1.1\t1.2 ± 1.02\tBlatow et al. 2003\n",
    "L5TTPC-L5TTPC\tE2\t1.3 ± 1.1\t1.2 ± 0.43\tMarkram et al. 1997\n",
    "L4SS-L4SS\tE2\t1.6 ± 1.0\t1.9 ± 1.5\tFeldmeyer et al. 1999\n",
    "L4SP-L4SP\tE2\t1.6 ± 1.0\t1.9 ± 1.5\tFeldmeyer et al. 1999\n",
    "L4PC-L4PC\tE2\t1.6 ± 1.0\t1.9 ± 1.5\tFeldmeyer et al. 1999\n",
    "L5TTPC-L5SBC\tE2\t2.1 ± 1.0\t1.96 ± 0.67\tAngulo et al. 1999 -->\n",
    "![image.png](attachment:image.png)"
   ]
  },
  {
   "cell_type": "code",
   "execution_count": null,
   "metadata": {},
   "outputs": [],
   "source": [
    "Connectiontype = ['L5TTPC_L5MC_E1', 'L5MC_L5TTPC_I2', 'L4SS_L23PC_E2', 'L5STPC_L5STPC_E2', 'L5UTPC_L5UTPC_E2', 'L23PC_L23PC_E2', \n",
    "                  'L23LBC_L23PC_I2', 'L23NBC_L23PC_I2', 'L5TTPC_L5TTPC_E2', 'L4SS_L4SS_E2', 'L4SP_L4SP_E2', 'L4PC_L4PC_E2', 'L5TTPC_L5SBC_E2']"
   ]
  },
  {
   "cell_type": "code",
   "execution_count": null,
   "metadata": {},
   "outputs": [],
   "source": [
    "table13c = [0.28, 0.3, 0.28, 0.18, 0.50, 0.3, 0.57, 0.50, 0.70, 0.6, 0.70, 0.90, 0.90, 0.7, 0.91, 0.80, 0.90, 0.7, 0.91, 0.80, \n",
    "            1.00, 0.7, 1.00, 0.30, 1.20, 1.1, 1.20, 1.02, 1.20, 1.1, 1.20, 1.02, 1.30, 1.1, 1.20, 0.43, 1.60, 1.0, 1.90, 1.50, \n",
    "            1.60, 1.0, 1.90, 1.50, 1.60, 1.0, 1.90, 1.50, 2.10, 1.0, 1.96, 0.67]"
   ]
  },
  {
   "cell_type": "code",
   "execution_count": null,
   "metadata": {},
   "outputs": [],
   "source": [
    "x = []\n",
    "sx = []\n",
    "y = []\n",
    "sy = []\n",
    "\n",
    "for ii in range(13):\n",
    "    print(Connectiontype[ii],table13c[4*ii],table13c[4*ii+1],table13c[4*ii+2],table13c[4*ii+3])\n",
    "    x.append(table13c[4*ii])\n",
    "    sx.append(table13c[4*ii+1])\n",
    "    y.append(table13c[4*ii+2])\n",
    "    sy.append(table13c[4*ii+3])    "
   ]
  },
  {
   "cell_type": "code",
   "execution_count": null,
   "metadata": {},
   "outputs": [],
   "source": [
    "import matplotlib.pyplot as plt\n",
    "\n",
    "# a = [1, 3, 5, 7]\n",
    "# b = [11, -2, 4, 19]\n",
    "# plt.scatter(a, b)\n",
    "\n",
    "\n",
    "# c = [1, 3, 2, 1]\n",
    "# d = [1, 3, 2, 1]\n",
    "\n",
    "# you can use color =\"r\" for red or skip to default as blue\n",
    "# plt.errorbar(x, y, xerr=sx, yerr=sy, fmt=\"o\", color=\"r\")\n",
    "plt.scatter(x, y)\n",
    "\n",
    "plt.show()\n"
   ]
  }
 ],
 "metadata": {
  "colab": {
   "collapsed_sections": [],
   "name": "BBP_cells_Netpyne.ipynb",
   "provenance": []
  },
  "kernelspec": {
   "display_name": "Python 3 (ipykernel)",
   "language": "python",
   "name": "python3"
  },
  "language_info": {
   "codemirror_mode": {
    "name": "ipython",
    "version": 3
   },
   "file_extension": ".py",
   "mimetype": "text/x-python",
   "name": "python",
   "nbconvert_exporter": "python",
   "pygments_lexer": "ipython3",
   "version": "3.8.12"
  }
 },
 "nbformat": 4,
 "nbformat_minor": 1
}
